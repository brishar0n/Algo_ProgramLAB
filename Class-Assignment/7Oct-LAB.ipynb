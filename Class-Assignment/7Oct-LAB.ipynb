{
 "cells": [
  {
   "cell_type": "code",
   "execution_count": 10,
   "metadata": {},
   "outputs": [
    {
     "name": "stdout",
     "output_type": "stream",
     "text": [
      "Even numbers: [0, 2, 4, 6, 8, 10] \n",
      "Odd numbers: [1, 3, 5, 7, 9] \n"
     ]
    }
   ],
   "source": [
    "#Exercise 4\n",
    "lower_bound = int(input(\"Enter the lower bound \"))\n",
    "\n",
    "odd_numbers = []\n",
    "even_numbers = []\n",
    "\n",
    "while lower_bound < 0:\n",
    "    print(\"The lower bound is too small\")\n",
    "    lower_bound = int(input(\"Re-enter your lower bound\"))\n",
    "else:\n",
    "    upper_bound = int(input(\"Enter the upper bound \"))\n",
    "    for i in range (lower_bound, upper_bound + 1):\n",
    "        if i % 2 == 0:\n",
    "            even_numbers.append(i)\n",
    "        else:\n",
    "            odd_numbers.append(i)\n",
    "\n",
    "print(f\"Even numbers: {even_numbers} \")\n",
    "print(f\"Odd numbers: {odd_numbers} \")"
   ]
  },
  {
   "cell_type": "code",
   "execution_count": 13,
   "metadata": {},
   "outputs": [
    {
     "name": "stdout",
     "output_type": "stream",
     "text": [
      "1\n",
      "22\n",
      "333\n",
      "4444\n",
      "55555\n",
      "666666\n",
      "7777777\n",
      "88888888\n",
      "999999999\n",
      "10101010101010101010\n",
      "1111111111111111111111\n",
      "121212121212121212121212\n"
     ]
    }
   ],
   "source": [
    "#Exercise 5\n",
    "height = int(input(\"Enter the height\"))\n",
    "\n",
    "for i in range(1, height + 1):\n",
    "    print(str(i) * i)"
   ]
  }
 ],
 "metadata": {
  "kernelspec": {
   "display_name": "Python 3.10.7 64-bit",
   "language": "python",
   "name": "python3"
  },
  "language_info": {
   "codemirror_mode": {
    "name": "ipython",
    "version": 3
   },
   "file_extension": ".py",
   "mimetype": "text/x-python",
   "name": "python",
   "nbconvert_exporter": "python",
   "pygments_lexer": "ipython3",
   "version": "3.10.7 (v3.10.7:6cc6b13308, Sep  5 2022, 14:02:52) [Clang 13.0.0 (clang-1300.0.29.30)]"
  },
  "orig_nbformat": 4,
  "vscode": {
   "interpreter": {
    "hash": "aee8b7b246df8f9039afb4144a1f6fd8d2ca17a180786b69acc140d282b71a49"
   }
  }
 },
 "nbformat": 4,
 "nbformat_minor": 2
}
